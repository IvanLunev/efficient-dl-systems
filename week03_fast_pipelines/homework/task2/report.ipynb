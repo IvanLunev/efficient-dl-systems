{
 "cells": [
  {
   "cell_type": "markdown",
   "metadata": {},
   "source": [
    "# Task 2"
   ]
  },
  {
   "cell_type": "markdown",
   "metadata": {},
   "source": [
    "## Summary\n",
    "\n",
    "* Added ```GPT2likeModel``` in ```transformer.py```\n",
    "* Added preprocessing function ```preprocess_data``` in ```dataset.py```. I prerocess data (read, filter, tokenize) once and the put shr data in Datasets as input\n",
    "* Implemented ```BrainDataset```, ```BigBrainDataset``` and ```collate_fn``` according to the task\n",
    "* Also ```UltraDuperBigBrainBatchSampler``` implemented. I try to sample all data uniformly. Steps:\n",
    "    * Calculate table \"lengths to inds\"\n",
    "    * Sample \"main\" length with weights (counts of indexes for the length)\n",
    "    * Set \"window\" around \"main\" length with width = n_bins\n",
    "    * Find all lengths from the window which are in the table\n",
    "    * Sample uniforly from union of the indexes with these lengths\n",
    "    * For those batches that les than batch_size the caluculation time is scaled (according to the number of elements in the batch)\n",
    "* I use part of data to make calculations faster"
   ]
  },
  {
   "cell_type": "markdown",
   "metadata": {},
   "source": [
    "## Experiments"
   ]
  },
  {
   "cell_type": "code",
   "execution_count": 2,
   "metadata": {},
   "outputs": [],
   "source": [
    "import pandas as pd\n",
    "from run_epoch import run_epoch, DataMode\n",
    "from dataset import preprocess_data"
   ]
  },
  {
   "cell_type": "code",
   "execution_count": 3,
   "metadata": {},
   "outputs": [],
   "source": [
    "data_path = \"wikitext-103-raw/wiki.train.raw\"\n",
    "\n",
    "data, vocab = preprocess_data(data_path)"
   ]
  },
  {
   "cell_type": "code",
   "execution_count": 4,
   "metadata": {},
   "outputs": [
    {
     "name": "stdout",
     "output_type": "stream",
     "text": [
      "Warmup:\n"
     ]
    },
    {
     "name": "stderr",
     "output_type": "stream",
     "text": [
      " 26%|██▌       | 125/478 [00:04<00:13, 25.72it/s]\n"
     ]
    },
    {
     "name": "stdout",
     "output_type": "stream",
     "text": [
      "Train:\n"
     ]
    },
    {
     "name": "stderr",
     "output_type": "stream",
     "text": [
      "100%|██████████| 478/478 [00:41<00:00, 11.50it/s]"
     ]
    },
    {
     "name": "stdout",
     "output_type": "stream",
     "text": [
      "{'minimum': 0.07377535899286158, 'maximum': 0.1460416749905562, 'mean': 0.08628600094553616, 'median': 0.08739759100717492}\n"
     ]
    },
    {
     "name": "stderr",
     "output_type": "stream",
     "text": [
      "\n"
     ]
    }
   ],
   "source": [
    "b = run_epoch(data, vocab, DataMode.BRAIN)"
   ]
  },
  {
   "cell_type": "code",
   "execution_count": 5,
   "metadata": {},
   "outputs": [
    {
     "name": "stdout",
     "output_type": "stream",
     "text": [
      "Warmup:\n"
     ]
    },
    {
     "name": "stderr",
     "output_type": "stream",
     "text": [
      " 26%|██▌       | 125/478 [00:04<00:11, 30.50it/s]\n"
     ]
    },
    {
     "name": "stdout",
     "output_type": "stream",
     "text": [
      "Train:\n"
     ]
    },
    {
     "name": "stderr",
     "output_type": "stream",
     "text": [
      "100%|██████████| 478/478 [00:39<00:00, 12.22it/s]"
     ]
    },
    {
     "name": "stdout",
     "output_type": "stream",
     "text": [
      "{'minimum': 0.04276562300219666, 'maximum': 0.10457310400670394, 'mean': 0.08114802340774019, 'median': 0.08639974300604081}\n"
     ]
    },
    {
     "name": "stderr",
     "output_type": "stream",
     "text": [
      "\n"
     ]
    }
   ],
   "source": [
    "bb = run_epoch(data, vocab, DataMode.BIG_BRAIN)"
   ]
  },
  {
   "cell_type": "code",
   "execution_count": 6,
   "metadata": {},
   "outputs": [
    {
     "name": "stdout",
     "output_type": "stream",
     "text": [
      "Warmup:\n"
     ]
    },
    {
     "name": "stderr",
     "output_type": "stream",
     "text": [
      " 38%|███▊      | 182/478 [00:02<00:04, 61.47it/s]\n"
     ]
    },
    {
     "name": "stdout",
     "output_type": "stream",
     "text": [
      "Train:\n"
     ]
    },
    {
     "name": "stderr",
     "output_type": "stream",
     "text": [
      "100%|██████████| 478/478 [00:21<00:00, 22.53it/s]"
     ]
    },
    {
     "name": "stdout",
     "output_type": "stream",
     "text": [
      "{'minimum': 0.00821347399323713, 'maximum': 0.2687243759864941, 'mean': 0.08958919143679632, 'median': 0.06779857650690246}\n"
     ]
    },
    {
     "name": "stderr",
     "output_type": "stream",
     "text": [
      "\n"
     ]
    }
   ],
   "source": [
    "udbb_1 = run_epoch(data, vocab, DataMode.ULTRA_DUPER_BIG_BRAIN, n_bins=1)"
   ]
  },
  {
   "cell_type": "code",
   "execution_count": 7,
   "metadata": {},
   "outputs": [
    {
     "name": "stdout",
     "output_type": "stream",
     "text": [
      "Warmup:\n"
     ]
    },
    {
     "name": "stderr",
     "output_type": "stream",
     "text": [
      " 30%|██▉       | 142/478 [00:02<00:06, 48.92it/s]\n"
     ]
    },
    {
     "name": "stdout",
     "output_type": "stream",
     "text": [
      "Train:\n"
     ]
    },
    {
     "name": "stderr",
     "output_type": "stream",
     "text": [
      "100%|██████████| 478/478 [00:25<00:00, 18.60it/s]"
     ]
    },
    {
     "name": "stdout",
     "output_type": "stream",
     "text": [
      "{'minimum': 0.008278658002382144, 'maximum': 0.26943800796288997, 'mean': 0.07330763733603204, 'median': 0.06403578600293258}\n"
     ]
    },
    {
     "name": "stderr",
     "output_type": "stream",
     "text": [
      "\n"
     ]
    }
   ],
   "source": [
    "udbb_5 = run_epoch(data, vocab, DataMode.ULTRA_DUPER_BIG_BRAIN, n_bins=5)"
   ]
  },
  {
   "cell_type": "code",
   "execution_count": 8,
   "metadata": {},
   "outputs": [
    {
     "name": "stdout",
     "output_type": "stream",
     "text": [
      "Warmup:\n"
     ]
    },
    {
     "name": "stderr",
     "output_type": "stream",
     "text": [
      " 29%|██▉       | 138/478 [00:03<00:07, 44.58it/s]\n"
     ]
    },
    {
     "name": "stdout",
     "output_type": "stream",
     "text": [
      "Train:\n"
     ]
    },
    {
     "name": "stderr",
     "output_type": "stream",
     "text": [
      "100%|██████████| 478/478 [00:27<00:00, 17.70it/s]"
     ]
    },
    {
     "name": "stdout",
     "output_type": "stream",
     "text": [
      "{'minimum': 0.009054530994035304, 'maximum': 0.2715580399380997, 'mean': 0.06734283700428005, 'median': 0.06339345399464946}\n"
     ]
    },
    {
     "name": "stderr",
     "output_type": "stream",
     "text": [
      "\n"
     ]
    }
   ],
   "source": [
    "udbb_10 = run_epoch(data, vocab, DataMode.ULTRA_DUPER_BIG_BRAIN, n_bins=10)"
   ]
  },
  {
   "cell_type": "code",
   "execution_count": 9,
   "metadata": {},
   "outputs": [
    {
     "name": "stdout",
     "output_type": "stream",
     "text": [
      "Warmup:\n"
     ]
    },
    {
     "name": "stderr",
     "output_type": "stream",
     "text": [
      " 27%|██▋       | 131/478 [00:02<00:07, 45.70it/s]\n"
     ]
    },
    {
     "name": "stdout",
     "output_type": "stream",
     "text": [
      "Train:\n"
     ]
    },
    {
     "name": "stderr",
     "output_type": "stream",
     "text": [
      "100%|██████████| 478/478 [00:25<00:00, 18.43it/s]"
     ]
    },
    {
     "name": "stdout",
     "output_type": "stream",
     "text": [
      "{'minimum': 0.0081318369921064, 'maximum': 0.3507025999715552, 'mean': 0.06032542965493233, 'median': 0.05599357799655991}\n"
     ]
    },
    {
     "name": "stderr",
     "output_type": "stream",
     "text": [
      "\n"
     ]
    }
   ],
   "source": [
    "udbb_20 = run_epoch(data, vocab, DataMode.ULTRA_DUPER_BIG_BRAIN, n_bins=20)"
   ]
  },
  {
   "cell_type": "code",
   "execution_count": 10,
   "metadata": {},
   "outputs": [
    {
     "name": "stdout",
     "output_type": "stream",
     "text": [
      "Warmup:\n"
     ]
    },
    {
     "name": "stderr",
     "output_type": "stream",
     "text": [
      " 27%|██▋       | 128/478 [00:02<00:07, 48.26it/s]\n"
     ]
    },
    {
     "name": "stdout",
     "output_type": "stream",
     "text": [
      "Train:\n"
     ]
    },
    {
     "name": "stderr",
     "output_type": "stream",
     "text": [
      "100%|██████████| 478/478 [00:27<00:00, 17.62it/s]"
     ]
    },
    {
     "name": "stdout",
     "output_type": "stream",
     "text": [
      "{'minimum': 0.010012742000981234, 'maximum': 0.2355414800113067, 'mean': 0.058628822775937756, 'median': 0.061706441003479995}\n"
     ]
    },
    {
     "name": "stderr",
     "output_type": "stream",
     "text": [
      "\n"
     ]
    }
   ],
   "source": [
    "udbb_50 = run_epoch(data, vocab, DataMode.ULTRA_DUPER_BIG_BRAIN, n_bins=50)"
   ]
  },
  {
   "cell_type": "code",
   "execution_count": 11,
   "metadata": {},
   "outputs": [
    {
     "name": "stdout",
     "output_type": "stream",
     "text": [
      "Warmup:\n"
     ]
    },
    {
     "name": "stderr",
     "output_type": "stream",
     "text": [
      " 26%|██▌       | 125/478 [00:03<00:10, 32.17it/s]\n"
     ]
    },
    {
     "name": "stdout",
     "output_type": "stream",
     "text": [
      "Train:\n"
     ]
    },
    {
     "name": "stderr",
     "output_type": "stream",
     "text": [
      "100%|██████████| 478/478 [00:38<00:00, 12.36it/s]"
     ]
    },
    {
     "name": "stdout",
     "output_type": "stream",
     "text": [
      "{'minimum': 0.04487882800458465, 'maximum': 0.28268466400913894, 'mean': 0.08057339574560282, 'median': 0.08378183650347637}\n"
     ]
    },
    {
     "name": "stderr",
     "output_type": "stream",
     "text": [
      "\n"
     ]
    }
   ],
   "source": [
    "udbb_640 = run_epoch(data, vocab, DataMode.ULTRA_DUPER_BIG_BRAIN, n_bins=640)"
   ]
  },
  {
   "cell_type": "code",
   "execution_count": 24,
   "metadata": {},
   "outputs": [],
   "source": [
    "columns = [\"experiment\", \"minimum\", \"maximum\", \"mean\", \"median\"]\n",
    "experimens = [b, bb, udbb_1, udbb_5, udbb_10, udbb_20, udbb_50, udbb_640]\n",
    "df = pd.DataFrame(columns=columns)\n",
    "df['experiment'] = [exp for exp in ['b', 'bb', 'udbb_1', 'udbb_5', 'udbb_10', 'udbb_20', 'udbb_50', 'udbb_640']]\n",
    "df['minimum'] = [exp[\"minimum\"] for exp in experimens]\n",
    "df['maximum'] = [exp[\"maximum\"]  for exp in experimens]\n",
    "df['mean'] = [exp[\"mean\"]  for exp in experimens]\n",
    "df['median'] = [exp[\"median\"]  for exp in experimens]"
   ]
  },
  {
   "cell_type": "code",
   "execution_count": 23,
   "metadata": {},
   "outputs": [
    {
     "data": {
      "text/html": [
       "<div>\n",
       "<style scoped>\n",
       "    .dataframe tbody tr th:only-of-type {\n",
       "        vertical-align: middle;\n",
       "    }\n",
       "\n",
       "    .dataframe tbody tr th {\n",
       "        vertical-align: top;\n",
       "    }\n",
       "\n",
       "    .dataframe thead th {\n",
       "        text-align: right;\n",
       "    }\n",
       "</style>\n",
       "<table border=\"1\" class=\"dataframe\">\n",
       "  <thead>\n",
       "    <tr style=\"text-align: right;\">\n",
       "      <th></th>\n",
       "      <th>experiment</th>\n",
       "      <th>minimum</th>\n",
       "      <th>maximum</th>\n",
       "      <th>mean</th>\n",
       "      <th>median</th>\n",
       "    </tr>\n",
       "  </thead>\n",
       "  <tbody>\n",
       "    <tr>\n",
       "      <th>0</th>\n",
       "      <td>b</td>\n",
       "      <td>0.073775</td>\n",
       "      <td>0.146042</td>\n",
       "      <td>0.086286</td>\n",
       "      <td>0.087398</td>\n",
       "    </tr>\n",
       "    <tr>\n",
       "      <th>1</th>\n",
       "      <td>bb</td>\n",
       "      <td>0.042766</td>\n",
       "      <td>0.104573</td>\n",
       "      <td>0.081148</td>\n",
       "      <td>0.086400</td>\n",
       "    </tr>\n",
       "    <tr>\n",
       "      <th>2</th>\n",
       "      <td>udbb_1</td>\n",
       "      <td>0.008213</td>\n",
       "      <td>0.268724</td>\n",
       "      <td>0.089589</td>\n",
       "      <td>0.067799</td>\n",
       "    </tr>\n",
       "    <tr>\n",
       "      <th>3</th>\n",
       "      <td>udbb_5</td>\n",
       "      <td>0.008279</td>\n",
       "      <td>0.269438</td>\n",
       "      <td>0.073308</td>\n",
       "      <td>0.064036</td>\n",
       "    </tr>\n",
       "    <tr>\n",
       "      <th>4</th>\n",
       "      <td>udbb_10</td>\n",
       "      <td>0.009055</td>\n",
       "      <td>0.271558</td>\n",
       "      <td>0.067343</td>\n",
       "      <td>0.063393</td>\n",
       "    </tr>\n",
       "    <tr>\n",
       "      <th>5</th>\n",
       "      <td>udbb_20</td>\n",
       "      <td>0.008132</td>\n",
       "      <td>0.350703</td>\n",
       "      <td>0.060325</td>\n",
       "      <td>0.055994</td>\n",
       "    </tr>\n",
       "    <tr>\n",
       "      <th>6</th>\n",
       "      <td>udbb_50</td>\n",
       "      <td>0.010013</td>\n",
       "      <td>0.235541</td>\n",
       "      <td>0.058629</td>\n",
       "      <td>0.061706</td>\n",
       "    </tr>\n",
       "    <tr>\n",
       "      <th>7</th>\n",
       "      <td>udbb_640</td>\n",
       "      <td>0.044879</td>\n",
       "      <td>0.282685</td>\n",
       "      <td>0.080573</td>\n",
       "      <td>0.083782</td>\n",
       "    </tr>\n",
       "  </tbody>\n",
       "</table>\n",
       "</div>"
      ],
      "text/plain": [
       "  experiment   minimum   maximum      mean    median\n",
       "0          b  0.073775  0.146042  0.086286  0.087398\n",
       "1         bb  0.042766  0.104573  0.081148  0.086400\n",
       "2     udbb_1  0.008213  0.268724  0.089589  0.067799\n",
       "3     udbb_5  0.008279  0.269438  0.073308  0.064036\n",
       "4    udbb_10  0.009055  0.271558  0.067343  0.063393\n",
       "5    udbb_20  0.008132  0.350703  0.060325  0.055994\n",
       "6    udbb_50  0.010013  0.235541  0.058629  0.061706\n",
       "7   udbb_640  0.044879  0.282685  0.080573  0.083782"
      ]
     },
     "execution_count": 23,
     "metadata": {},
     "output_type": "execute_result"
    }
   ],
   "source": [
    "df"
   ]
  },
  {
   "cell_type": "markdown",
   "metadata": {},
   "source": [
    "## Results"
   ]
  },
  {
   "cell_type": "markdown",
   "metadata": {},
   "source": [
    "* ```BigBrainDataset``` shows a bit better results, than ```BrainDataset```. It could be much better, but I use batch_size=8, so it is more likely to see a row in a batch with more than 640 tokens\n",
    "* The results of ```UltraDuperBigBrainDataset``` with ```n_bins=1``` are not good because of the not big amount of data (i take 8192 rows). For the certain length value there is often less than batch_size rows, and after time scaling we get worse results\n",
    "* Different ```n_bins``` show good results\n",
    "* ```n-bins = 640``` shows the same results as ```BigBrainDataset```"
   ]
  }
 ],
 "metadata": {
  "kernelspec": {
   "display_name": "research_env",
   "language": "python",
   "name": "python3"
  },
  "language_info": {
   "codemirror_mode": {
    "name": "ipython",
    "version": 3
   },
   "file_extension": ".py",
   "mimetype": "text/x-python",
   "name": "python",
   "nbconvert_exporter": "python",
   "pygments_lexer": "ipython3",
   "version": "3.10.12"
  }
 },
 "nbformat": 4,
 "nbformat_minor": 2
}
